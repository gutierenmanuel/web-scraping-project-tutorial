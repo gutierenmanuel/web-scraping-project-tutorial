{
 "cells": [
  {
   "cell_type": "markdown",
   "metadata": {},
   "source": [
    "### Turtle to Dataframe"
   ]
  },
  {
   "cell_type": "markdown",
   "metadata": {},
   "source": [
    "we import the libraries"
   ]
  },
  {
   "cell_type": "code",
   "execution_count": 1,
   "metadata": {},
   "outputs": [],
   "source": [
    "# selenium 4\n",
    "from selenium import webdriver\n",
    "from selenium.webdriver.firefox.service import Service as FirefoxService\n",
    "from webdriver_manager.firefox import GeckoDriverManager\n"
   ]
  },
  {
   "cell_type": "code",
   "execution_count": 114,
   "metadata": {},
   "outputs": [],
   "source": [
    "from IPython.display import display, HTML"
   ]
  },
  {
   "cell_type": "code",
   "execution_count": 8,
   "metadata": {},
   "outputs": [],
   "source": [
    "import time\n",
    "from selenium.webdriver.common.by import By\n",
    "from selenium.common.exceptions import NoSuchElementException\n",
    "\n",
    "import pandas as pd"
   ]
  },
  {
   "cell_type": "markdown",
   "metadata": {},
   "source": [
    "We open the browser and load the link"
   ]
  },
  {
   "cell_type": "code",
   "execution_count": 53,
   "metadata": {},
   "outputs": [],
   "source": [
    "\n",
    "driver = webdriver.Firefox(service=FirefoxService(GeckoDriverManager().install()))\n",
    "url = \"https://www.scrapethissite.com/pages/frames/\"\n",
    "driver.get(url)\n",
    "\n",
    "time.sleep(3)"
   ]
  },
  {
   "cell_type": "markdown",
   "metadata": {},
   "source": [
    "get all the links for the turtles"
   ]
  },
  {
   "cell_type": "code",
   "execution_count": 54,
   "metadata": {},
   "outputs": [
    {
     "name": "stdout",
     "output_type": "stream",
     "text": [
      "['https://www.scrapethissite.com/pages/frames/?frame=i&family=Carettochelyidae', 'https://www.scrapethissite.com/pages/frames/?frame=i&family=Cheloniidae', 'https://www.scrapethissite.com/pages/frames/?frame=i&family=Chelydridae', 'https://www.scrapethissite.com/pages/frames/?frame=i&family=Dermatemydidae', 'https://www.scrapethissite.com/pages/frames/?frame=i&family=Dermochelyidae', 'https://www.scrapethissite.com/pages/frames/?frame=i&family=Emydidae', 'https://www.scrapethissite.com/pages/frames/?frame=i&family=Geoemydidae', 'https://www.scrapethissite.com/pages/frames/?frame=i&family=Kinosternidae', 'https://www.scrapethissite.com/pages/frames/?frame=i&family=Platysternidae', 'https://www.scrapethissite.com/pages/frames/?frame=i&family=Testudinidae', 'https://www.scrapethissite.com/pages/frames/?frame=i&family=Trionychidae', 'https://www.scrapethissite.com/pages/frames/?frame=i&family=Chelidae', 'https://www.scrapethissite.com/pages/frames/?frame=i&family=Pelomedusidae', 'https://www.scrapethissite.com/pages/frames/?frame=i&family=Podocnemididae']\n"
     ]
    }
   ],
   "source": [
    "iframe = driver.find_element(By.CSS_SELECTOR,'#iframe')\n",
    "\n",
    "driver.switch_to.frame(iframe)\n",
    "\n",
    "tortugas = driver.find_elements(By.CSS_SELECTOR,'.col-md-4.turtle-family-card')\n",
    "\n",
    "enlaces= []\n",
    "\n",
    "for tortuga in tortugas:\n",
    "    \n",
    "    #guardamos el enlace\n",
    "    enlace = tortuga.find_element(By.CSS_SELECTOR,'a.btn.btn-default.btn-xs')\n",
    "    enlace_url = enlace.get_attribute('href')\n",
    "\n",
    "    enlaces.append(enlace_url)\n",
    "\n",
    "print(enlaces)"
   ]
  },
  {
   "cell_type": "code",
   "execution_count": 55,
   "metadata": {},
   "outputs": [
    {
     "name": "stdout",
     "output_type": "stream",
     "text": [
      "14\n"
     ]
    }
   ],
   "source": [
    "print(len(enlaces))"
   ]
  },
  {
   "cell_type": "markdown",
   "metadata": {},
   "source": [
    "scrape the data"
   ]
  },
  {
   "cell_type": "code",
   "execution_count": 56,
   "metadata": {},
   "outputs": [],
   "source": [
    "cintific_names = []\n",
    "common_names = []\n",
    "text_tortus = []\n",
    "photos_tortus = []"
   ]
  },
  {
   "cell_type": "code",
   "execution_count": 57,
   "metadata": {},
   "outputs": [],
   "source": [
    "\n",
    "for enlace in enlaces:\n",
    "    \n",
    "\n",
    "    # Lo cargamos en una nueva ventana  \n",
    "    driver.execute_script(\"window.open('\" + enlace + \"', '_blank');\")\n",
    "\n",
    "    # Cambiamos a esa ventana\n",
    "    pagina_tortuga = driver.window_handles\n",
    "    driver.switch_to.window(pagina_tortuga[-1]) \n",
    "\n",
    "    #Esperamos \n",
    "    time.sleep(1)\n",
    "\n",
    "\n",
    "    # Scrapeamos los datos\n",
    "    tortuga_name = driver.find_element(By.CSS_SELECTOR,'h3.family-name').text\n",
    "\n",
    "    cintific_names.append(tortuga_name)\n",
    "    \n",
    "    common_name = driver.find_element(By.CSS_SELECTOR,'strong.common-name').text\n",
    "\n",
    "    common_names.append(common_name)\n",
    "\n",
    "    texto_tortu = driver.find_element(By.CSS_SELECTOR,'p.lead').text\n",
    "\n",
    "    text_tortus.append(texto_tortu)\n",
    "\n",
    "\n",
    "    # Conseguimos la imagen\n",
    "\n",
    "    imagen_tortu = driver.find_element(By.CSS_SELECTOR,'img.turtle-image.center-block')\n",
    "    imagen_tortu_enlace = imagen_tortu.get_attribute('src')\n",
    "\n",
    "    photos_tortus.append(imagen_tortu_enlace)\n",
    "\n",
    "\n",
    "    driver.close()\n",
    "\n",
    "    driver.switch_to.window(pagina_tortuga[0]) \n",
    "\n",
    "\n",
    "driver.quit()"
   ]
  },
  {
   "cell_type": "markdown",
   "metadata": {},
   "source": [
    "create the dataframe"
   ]
  },
  {
   "cell_type": "code",
   "execution_count": 72,
   "metadata": {},
   "outputs": [],
   "source": [
    "tortugas= {\n",
    "    'cientific name':cintific_names,\n",
    "    'common name':common_names,\n",
    "    'turtle text':text_tortus,\n",
    "    'photo':photos_tortus,\n",
    "}\n",
    "\n",
    "df = pd.DataFrame(tortugas)"
   ]
  },
  {
   "cell_type": "markdown",
   "metadata": {},
   "source": [
    "we see the text to extract more data"
   ]
  },
  {
   "cell_type": "code",
   "execution_count": 74,
   "metadata": {},
   "outputs": [
    {
     "name": "stdout",
     "output_type": "stream",
     "text": [
      "The Carettochelyidae family of turtles — more commonly known as \"Pig-nosed turtle\" — were first discovered in 1887 by Boulenger.\n",
      "The Cheloniidae family of turtles — more commonly known as \"Sea turtles\" — were first discovered in 1811 by Oppel.\n",
      "The Chelydridae family of turtles — more commonly known as \"Snapping turtles\" — were first discovered in 1831 by Gray.\n",
      "The Dermatemydidae family of turtles — more commonly known as \"Central American river turtle\" — were first discovered in 1870 by Gray.\n",
      "The Dermochelyidae family of turtles — more commonly known as \"Leatherback sea turtle\" — were first discovered in 1843 by Fitzinger.\n",
      "The Emydidae family of turtles — more commonly known as \"Pond or water turtles\" — were first discovered in 1815 by Rafinesque.\n",
      "The Geoemydidae family of turtles — more commonly known as \"Asian river, leaf, roofed or Asian box turtles\" — were first discovered in 1868 by Theobald.\n",
      "The Kinosternidae family of turtles — more commonly known as \"Mud or musk turtles\" — were first discovered in 1857 by Agassiz.\n",
      "The Platysternidae family of turtles — more commonly known as \"Big-headed turtle\" — were first discovered in 1869 by Gray.\n",
      "The Testudinidae family of turtles — more commonly known as \"Tortoises\" — were first discovered in 1788 by Batsch.\n",
      "The Trionychidae family of turtles — more commonly known as \"Softshell turtles\" — were first discovered in 1826 by Fitzinger.\n",
      "The Chelidae family of turtles — more commonly known as \"Austro-American sideneck turtles\" — were first discovered in 1831 by Gray.\n",
      "The Pelomedusidae family of turtles — more commonly known as \"Afro-American sideneck turtles\" — were first discovered in 1868 by Cope.\n",
      "The Podocnemididae family of turtles — more commonly known as \"Madagascar big-headed, Big-headed Amazon River turtle and South American sideneck river turtles\" — were first discovered in 1869 by Gray.\n"
     ]
    }
   ],
   "source": [
    "for i in df['turtle text']:\n",
    "    print(i)"
   ]
  },
  {
   "cell_type": "markdown",
   "metadata": {},
   "source": [
    "we get the discoverer man"
   ]
  },
  {
   "cell_type": "code",
   "execution_count": 82,
   "metadata": {},
   "outputs": [
    {
     "name": "stdout",
     "output_type": "stream",
     "text": [
      "['Boulenger.', 'Oppel.', 'Gray.', 'Gray.', 'Fitzinger.', 'Rafinesque.', 'Theobald.', 'Agassiz.', 'Gray.', 'Batsch.', 'Fitzinger.', 'Gray.', 'Cope.', 'Gray.']\n"
     ]
    }
   ],
   "source": [
    "discoverer = []\n",
    "\n",
    "for i in df['turtle text']:\n",
    "    \n",
    "    texto_sep = i.split('by')\n",
    "    discoverer.append(texto_sep[-1].strip())\n",
    "\n",
    "print(discoverer)\n",
    "    \n"
   ]
  },
  {
   "cell_type": "code",
   "execution_count": 110,
   "metadata": {},
   "outputs": [],
   "source": [
    "df['discoverer man'] = discoverer"
   ]
  },
  {
   "cell_type": "code",
   "execution_count": 112,
   "metadata": {},
   "outputs": [],
   "source": [
    "df['discoverer man'] = df['discoverer man'].replace('\\.', '',regex=True)"
   ]
  },
  {
   "cell_type": "code",
   "execution_count": 113,
   "metadata": {},
   "outputs": [
    {
     "data": {
      "text/html": [
       "<div>\n",
       "<style scoped>\n",
       "    .dataframe tbody tr th:only-of-type {\n",
       "        vertical-align: middle;\n",
       "    }\n",
       "\n",
       "    .dataframe tbody tr th {\n",
       "        vertical-align: top;\n",
       "    }\n",
       "\n",
       "    .dataframe thead th {\n",
       "        text-align: right;\n",
       "    }\n",
       "</style>\n",
       "<table border=\"1\" class=\"dataframe\">\n",
       "  <thead>\n",
       "    <tr style=\"text-align: right;\">\n",
       "      <th></th>\n",
       "      <th>cientific name</th>\n",
       "      <th>common name</th>\n",
       "      <th>turtle text</th>\n",
       "      <th>photo</th>\n",
       "      <th>discoverer man</th>\n",
       "      <th>discovered year</th>\n",
       "    </tr>\n",
       "  </thead>\n",
       "  <tbody>\n",
       "    <tr>\n",
       "      <th>0</th>\n",
       "      <td>Carettochelyidae</td>\n",
       "      <td>Pig-nosed turtle</td>\n",
       "      <td>The Carettochelyidae family of turtles — more ...</td>\n",
       "      <td>https://upload.wikimedia.org/wikipedia/commons...</td>\n",
       "      <td>Boulenger</td>\n",
       "      <td>1887</td>\n",
       "    </tr>\n",
       "    <tr>\n",
       "      <th>1</th>\n",
       "      <td>Cheloniidae</td>\n",
       "      <td>Sea turtles</td>\n",
       "      <td>The Cheloniidae family of turtles — more commo...</td>\n",
       "      <td>https://upload.wikimedia.org/wikipedia/commons...</td>\n",
       "      <td>Oppel</td>\n",
       "      <td>1811</td>\n",
       "    </tr>\n",
       "    <tr>\n",
       "      <th>2</th>\n",
       "      <td>Chelydridae</td>\n",
       "      <td>Snapping turtles</td>\n",
       "      <td>The Chelydridae family of turtles — more commo...</td>\n",
       "      <td>https://upload.wikimedia.org/wikipedia/commons...</td>\n",
       "      <td>Gray</td>\n",
       "      <td>1831</td>\n",
       "    </tr>\n",
       "    <tr>\n",
       "      <th>3</th>\n",
       "      <td>Dermatemydidae</td>\n",
       "      <td>Central American river turtle</td>\n",
       "      <td>The Dermatemydidae family of turtles — more co...</td>\n",
       "      <td>https://upload.wikimedia.org/wikipedia/commons...</td>\n",
       "      <td>Gray</td>\n",
       "      <td>1870</td>\n",
       "    </tr>\n",
       "    <tr>\n",
       "      <th>4</th>\n",
       "      <td>Dermochelyidae</td>\n",
       "      <td>Leatherback sea turtle</td>\n",
       "      <td>The Dermochelyidae family of turtles — more co...</td>\n",
       "      <td>https://upload.wikimedia.org/wikipedia/commons...</td>\n",
       "      <td>Fitzinger</td>\n",
       "      <td>1843</td>\n",
       "    </tr>\n",
       "    <tr>\n",
       "      <th>5</th>\n",
       "      <td>Emydidae</td>\n",
       "      <td>Pond or water turtles</td>\n",
       "      <td>The Emydidae family of turtles — more commonly...</td>\n",
       "      <td>https://upload.wikimedia.org/wikipedia/commons...</td>\n",
       "      <td>Rafinesque</td>\n",
       "      <td>1815</td>\n",
       "    </tr>\n",
       "    <tr>\n",
       "      <th>6</th>\n",
       "      <td>Geoemydidae</td>\n",
       "      <td>Asian river, leaf, roofed or Asian box turtles</td>\n",
       "      <td>The Geoemydidae family of turtles — more commo...</td>\n",
       "      <td>https://upload.wikimedia.org/wikipedia/commons...</td>\n",
       "      <td>Theobald</td>\n",
       "      <td>1868</td>\n",
       "    </tr>\n",
       "    <tr>\n",
       "      <th>7</th>\n",
       "      <td>Kinosternidae</td>\n",
       "      <td>Mud or musk turtles</td>\n",
       "      <td>The Kinosternidae family of turtles — more com...</td>\n",
       "      <td>https://upload.wikimedia.org/wikipedia/commons...</td>\n",
       "      <td>Agassiz</td>\n",
       "      <td>1857</td>\n",
       "    </tr>\n",
       "    <tr>\n",
       "      <th>8</th>\n",
       "      <td>Platysternidae</td>\n",
       "      <td>Big-headed turtle</td>\n",
       "      <td>The Platysternidae family of turtles — more co...</td>\n",
       "      <td>https://upload.wikimedia.org/wikipedia/commons...</td>\n",
       "      <td>Gray</td>\n",
       "      <td>1869</td>\n",
       "    </tr>\n",
       "    <tr>\n",
       "      <th>9</th>\n",
       "      <td>Testudinidae</td>\n",
       "      <td>Tortoises</td>\n",
       "      <td>The Testudinidae family of turtles — more comm...</td>\n",
       "      <td>https://upload.wikimedia.org/wikipedia/commons...</td>\n",
       "      <td>Batsch</td>\n",
       "      <td>1788</td>\n",
       "    </tr>\n",
       "    <tr>\n",
       "      <th>10</th>\n",
       "      <td>Trionychidae</td>\n",
       "      <td>Softshell turtles</td>\n",
       "      <td>The Trionychidae family of turtles — more comm...</td>\n",
       "      <td>https://upload.wikimedia.org/wikipedia/commons...</td>\n",
       "      <td>Fitzinger</td>\n",
       "      <td>1826</td>\n",
       "    </tr>\n",
       "    <tr>\n",
       "      <th>11</th>\n",
       "      <td>Chelidae</td>\n",
       "      <td>Austro-American sideneck turtles</td>\n",
       "      <td>The Chelidae family of turtles — more commonly...</td>\n",
       "      <td>https://upload.wikimedia.org/wikipedia/commons...</td>\n",
       "      <td>Gray</td>\n",
       "      <td>1831</td>\n",
       "    </tr>\n",
       "    <tr>\n",
       "      <th>12</th>\n",
       "      <td>Pelomedusidae</td>\n",
       "      <td>Afro-American sideneck turtles</td>\n",
       "      <td>The Pelomedusidae family of turtles — more com...</td>\n",
       "      <td>https://upload.wikimedia.org/wikipedia/commons...</td>\n",
       "      <td>Cope</td>\n",
       "      <td>1868</td>\n",
       "    </tr>\n",
       "    <tr>\n",
       "      <th>13</th>\n",
       "      <td>Podocnemididae</td>\n",
       "      <td>Madagascar big-headed, Big-headed Amazon River...</td>\n",
       "      <td>The Podocnemididae family of turtles — more co...</td>\n",
       "      <td>https://upload.wikimedia.org/wikipedia/commons...</td>\n",
       "      <td>Gray</td>\n",
       "      <td>1869</td>\n",
       "    </tr>\n",
       "  </tbody>\n",
       "</table>\n",
       "</div>"
      ],
      "text/plain": [
       "      cientific name                                        common name  \\\n",
       "0   Carettochelyidae                                   Pig-nosed turtle   \n",
       "1        Cheloniidae                                        Sea turtles   \n",
       "2        Chelydridae                                   Snapping turtles   \n",
       "3     Dermatemydidae                      Central American river turtle   \n",
       "4     Dermochelyidae                             Leatherback sea turtle   \n",
       "5           Emydidae                              Pond or water turtles   \n",
       "6        Geoemydidae     Asian river, leaf, roofed or Asian box turtles   \n",
       "7      Kinosternidae                                Mud or musk turtles   \n",
       "8     Platysternidae                                  Big-headed turtle   \n",
       "9       Testudinidae                                          Tortoises   \n",
       "10      Trionychidae                                  Softshell turtles   \n",
       "11          Chelidae                   Austro-American sideneck turtles   \n",
       "12     Pelomedusidae                     Afro-American sideneck turtles   \n",
       "13    Podocnemididae  Madagascar big-headed, Big-headed Amazon River...   \n",
       "\n",
       "                                          turtle text  \\\n",
       "0   The Carettochelyidae family of turtles — more ...   \n",
       "1   The Cheloniidae family of turtles — more commo...   \n",
       "2   The Chelydridae family of turtles — more commo...   \n",
       "3   The Dermatemydidae family of turtles — more co...   \n",
       "4   The Dermochelyidae family of turtles — more co...   \n",
       "5   The Emydidae family of turtles — more commonly...   \n",
       "6   The Geoemydidae family of turtles — more commo...   \n",
       "7   The Kinosternidae family of turtles — more com...   \n",
       "8   The Platysternidae family of turtles — more co...   \n",
       "9   The Testudinidae family of turtles — more comm...   \n",
       "10  The Trionychidae family of turtles — more comm...   \n",
       "11  The Chelidae family of turtles — more commonly...   \n",
       "12  The Pelomedusidae family of turtles — more com...   \n",
       "13  The Podocnemididae family of turtles — more co...   \n",
       "\n",
       "                                                photo discoverer man  \\\n",
       "0   https://upload.wikimedia.org/wikipedia/commons...      Boulenger   \n",
       "1   https://upload.wikimedia.org/wikipedia/commons...          Oppel   \n",
       "2   https://upload.wikimedia.org/wikipedia/commons...           Gray   \n",
       "3   https://upload.wikimedia.org/wikipedia/commons...           Gray   \n",
       "4   https://upload.wikimedia.org/wikipedia/commons...      Fitzinger   \n",
       "5   https://upload.wikimedia.org/wikipedia/commons...     Rafinesque   \n",
       "6   https://upload.wikimedia.org/wikipedia/commons...       Theobald   \n",
       "7   https://upload.wikimedia.org/wikipedia/commons...        Agassiz   \n",
       "8   https://upload.wikimedia.org/wikipedia/commons...           Gray   \n",
       "9   https://upload.wikimedia.org/wikipedia/commons...         Batsch   \n",
       "10  https://upload.wikimedia.org/wikipedia/commons...      Fitzinger   \n",
       "11  https://upload.wikimedia.org/wikipedia/commons...           Gray   \n",
       "12  https://upload.wikimedia.org/wikipedia/commons...           Cope   \n",
       "13  https://upload.wikimedia.org/wikipedia/commons...           Gray   \n",
       "\n",
       "   discovered year  \n",
       "0             1887  \n",
       "1             1811  \n",
       "2             1831  \n",
       "3             1870  \n",
       "4             1843  \n",
       "5             1815  \n",
       "6             1868  \n",
       "7             1857  \n",
       "8             1869  \n",
       "9             1788  \n",
       "10            1826  \n",
       "11            1831  \n",
       "12            1868  \n",
       "13            1869  "
      ]
     },
     "execution_count": 113,
     "metadata": {},
     "output_type": "execute_result"
    }
   ],
   "source": [
    "df"
   ]
  },
  {
   "cell_type": "markdown",
   "metadata": {},
   "source": [
    "we get the discovered year"
   ]
  },
  {
   "cell_type": "code",
   "execution_count": 101,
   "metadata": {},
   "outputs": [
    {
     "name": "stdout",
     "output_type": "stream",
     "text": [
      "['1887', '1811', '1831', '1870', '1843', '1815', '1868', '1857', '1869', '1788', '1826', '1831', '1868', '1869']\n"
     ]
    }
   ],
   "source": [
    "discovered_year = []\n",
    "\n",
    "for i in df['turtle text']:\n",
    "    \n",
    "    texto_sep = i.split('by')\n",
    "    first_phrase= texto_sep[0]\n",
    "\n",
    "    texto_sep_spaces = first_phrase.split(' ')\n",
    "    year = texto_sep_spaces[-2]\n",
    "\n",
    "    discovered_year.append(year.strip())\n",
    "\n",
    "print(discovered_year)\n",
    "    \n"
   ]
  },
  {
   "cell_type": "code",
   "execution_count": 102,
   "metadata": {},
   "outputs": [],
   "source": [
    "df['discovered year'] = discovered_year"
   ]
  },
  {
   "cell_type": "markdown",
   "metadata": {},
   "source": [
    "set the images in the dataframe"
   ]
  },
  {
   "cell_type": "code",
   "execution_count": 138,
   "metadata": {},
   "outputs": [],
   "source": [
    "def display_image(url, width=200, height=200):\n",
    "    return f'<img src=\"{url}\" style=\"min-width:{width}px; min-height:{height}px; max-width:{width}px; max-height:{height}px;\">'\n",
    "\n",
    "\n",
    "df['image photo'] = df['photo'].apply(display_image)\n"
   ]
  },
  {
   "cell_type": "code",
   "execution_count": 139,
   "metadata": {},
   "outputs": [],
   "source": [
    "df_photos = df.loc[:,['common name','cientific name','discoverer man','discovered year','image photo']]"
   ]
  },
  {
   "cell_type": "markdown",
   "metadata": {},
   "source": [
    "### The dataset of turtles"
   ]
  },
  {
   "cell_type": "code",
   "execution_count": 140,
   "metadata": {},
   "outputs": [
    {
     "data": {
      "text/html": [
       "<table border=\"1\" class=\"dataframe\">\n",
       "  <thead>\n",
       "    <tr style=\"text-align: right;\">\n",
       "      <th></th>\n",
       "      <th>common name</th>\n",
       "      <th>cientific name</th>\n",
       "      <th>discoverer man</th>\n",
       "      <th>discovered year</th>\n",
       "      <th>image photo</th>\n",
       "    </tr>\n",
       "  </thead>\n",
       "  <tbody>\n",
       "    <tr>\n",
       "      <th>0</th>\n",
       "      <td>Pig-nosed turtle</td>\n",
       "      <td>Carettochelyidae</td>\n",
       "      <td>Boulenger</td>\n",
       "      <td>1887</td>\n",
       "      <td><img src=\"https://upload.wikimedia.org/wikipedia/commons/thumb/b/b3/Carettochelys_insculpta.jpg/200px-Carettochelys_insculpta.jpg\" style=\"min-width:200px; min-height:200px; max-width:200px; max-height:200px;\"></td>\n",
       "    </tr>\n",
       "    <tr>\n",
       "      <th>1</th>\n",
       "      <td>Sea turtles</td>\n",
       "      <td>Cheloniidae</td>\n",
       "      <td>Oppel</td>\n",
       "      <td>1811</td>\n",
       "      <td><img src=\"https://upload.wikimedia.org/wikipedia/commons/thumb/7/71/GreenSeaTurtle-2.jpg/200px-GreenSeaTurtle-2.jpg\" style=\"min-width:200px; min-height:200px; max-width:200px; max-height:200px;\"></td>\n",
       "    </tr>\n",
       "    <tr>\n",
       "      <th>2</th>\n",
       "      <td>Snapping turtles</td>\n",
       "      <td>Chelydridae</td>\n",
       "      <td>Gray</td>\n",
       "      <td>1831</td>\n",
       "      <td><img src=\"https://upload.wikimedia.org/wikipedia/commons/thumb/8/88/Alligator_snapping_turtle.jpg/200px-Alligator_snapping_turtle.jpg\" style=\"min-width:200px; min-height:200px; max-width:200px; max-height:200px;\"></td>\n",
       "    </tr>\n",
       "    <tr>\n",
       "      <th>3</th>\n",
       "      <td>Central American river turtle</td>\n",
       "      <td>Dermatemydidae</td>\n",
       "      <td>Gray</td>\n",
       "      <td>1870</td>\n",
       "      <td><img src=\"https://upload.wikimedia.org/wikipedia/commons/thumb/8/8a/Dermatemydidae.JPG/200px-Dermatemydidae.JPG\" style=\"min-width:200px; min-height:200px; max-width:200px; max-height:200px;\"></td>\n",
       "    </tr>\n",
       "    <tr>\n",
       "      <th>4</th>\n",
       "      <td>Leatherback sea turtle</td>\n",
       "      <td>Dermochelyidae</td>\n",
       "      <td>Fitzinger</td>\n",
       "      <td>1843</td>\n",
       "      <td><img src=\"https://upload.wikimedia.org/wikipedia/commons/thumb/9/9b/LeatherbackTurtle.jpg/200px-LeatherbackTurtle.jpg\" style=\"min-width:200px; min-height:200px; max-width:200px; max-height:200px;\"></td>\n",
       "    </tr>\n",
       "    <tr>\n",
       "      <th>5</th>\n",
       "      <td>Pond or water turtles</td>\n",
       "      <td>Emydidae</td>\n",
       "      <td>Rafinesque</td>\n",
       "      <td>1815</td>\n",
       "      <td><img src=\"https://upload.wikimedia.org/wikipedia/commons/thumb/4/45/Tortoise1_cepolina.jpg/200px-Tortoise1_cepolina.jpg\" style=\"min-width:200px; min-height:200px; max-width:200px; max-height:200px;\"></td>\n",
       "    </tr>\n",
       "    <tr>\n",
       "      <th>6</th>\n",
       "      <td>Asian river, leaf, roofed or Asian box turtles</td>\n",
       "      <td>Geoemydidae</td>\n",
       "      <td>Theobald</td>\n",
       "      <td>1868</td>\n",
       "      <td><img src=\"https://upload.wikimedia.org/wikipedia/commons/thumb/f/f3/Cuora_amboinensis_kamaroma_j.jpg/200px-Cuora_amboinensis_kamaroma_j.jpg\" style=\"min-width:200px; min-height:200px; max-width:200px; max-height:200px;\"></td>\n",
       "    </tr>\n",
       "    <tr>\n",
       "      <th>7</th>\n",
       "      <td>Mud or musk turtles</td>\n",
       "      <td>Kinosternidae</td>\n",
       "      <td>Agassiz</td>\n",
       "      <td>1857</td>\n",
       "      <td><img src=\"https://upload.wikimedia.org/wikipedia/commons/thumb/5/5e/Sternotherus_odoratus.jpg/200px-Sternotherus_odoratus.jpg\" style=\"min-width:200px; min-height:200px; max-width:200px; max-height:200px;\"></td>\n",
       "    </tr>\n",
       "    <tr>\n",
       "      <th>8</th>\n",
       "      <td>Big-headed turtle</td>\n",
       "      <td>Platysternidae</td>\n",
       "      <td>Gray</td>\n",
       "      <td>1869</td>\n",
       "      <td><img src=\"https://upload.wikimedia.org/wikipedia/commons/thumb/7/79/Zolw_wielkoglowy.jpg/200px-Zolw_wielkoglowy.jpg\" style=\"min-width:200px; min-height:200px; max-width:200px; max-height:200px;\"></td>\n",
       "    </tr>\n",
       "    <tr>\n",
       "      <th>9</th>\n",
       "      <td>Tortoises</td>\n",
       "      <td>Testudinidae</td>\n",
       "      <td>Batsch</td>\n",
       "      <td>1788</td>\n",
       "      <td><img src=\"https://upload.wikimedia.org/wikipedia/commons/thumb/4/41/Tortoise.aldabra.750pix.jpg/200px-Tortoise.aldabra.750pix.jpg\" style=\"min-width:200px; min-height:200px; max-width:200px; max-height:200px;\"></td>\n",
       "    </tr>\n",
       "    <tr>\n",
       "      <th>10</th>\n",
       "      <td>Softshell turtles</td>\n",
       "      <td>Trionychidae</td>\n",
       "      <td>Fitzinger</td>\n",
       "      <td>1826</td>\n",
       "      <td><img src=\"https://upload.wikimedia.org/wikipedia/commons/thumb/3/39/Apalone_spinifera.jpg/200px-Apalone_spinifera.jpg\" style=\"min-width:200px; min-height:200px; max-width:200px; max-height:200px;\"></td>\n",
       "    </tr>\n",
       "    <tr>\n",
       "      <th>11</th>\n",
       "      <td>Austro-American sideneck turtles</td>\n",
       "      <td>Chelidae</td>\n",
       "      <td>Gray</td>\n",
       "      <td>1831</td>\n",
       "      <td><img src=\"https://upload.wikimedia.org/wikipedia/commons/thumb/e/ec/Eastern_long_neck_tortoise_-_chelodina_longicollis.jpg/200px-Eastern_long_neck_tortoise_-_chelodina_longicollis.jpg\" style=\"min-width:200px; min-height:200px; max-width:200px; max-height:200px;\"></td>\n",
       "    </tr>\n",
       "    <tr>\n",
       "      <th>12</th>\n",
       "      <td>Afro-American sideneck turtles</td>\n",
       "      <td>Pelomedusidae</td>\n",
       "      <td>Cope</td>\n",
       "      <td>1868</td>\n",
       "      <td><img src=\"https://upload.wikimedia.org/wikipedia/commons/thumb/8/86/Pelomedusa_subrufa.JPG/200px-Pelomedusa_subrufa.JPG\" style=\"min-width:200px; min-height:200px; max-width:200px; max-height:200px;\"></td>\n",
       "    </tr>\n",
       "    <tr>\n",
       "      <th>13</th>\n",
       "      <td>Madagascar big-headed, Big-headed Amazon River turtle and South American sideneck river turtles</td>\n",
       "      <td>Podocnemididae</td>\n",
       "      <td>Gray</td>\n",
       "      <td>1869</td>\n",
       "      <td><img src=\"https://upload.wikimedia.org/wikipedia/commons/thumb/5/5b/Erymnochelys_madagascariensis.jpg/200px-Erymnochelys_madagascariensis.jpg\" style=\"min-width:200px; min-height:200px; max-width:200px; max-height:200px;\"></td>\n",
       "    </tr>\n",
       "  </tbody>\n",
       "</table>"
      ],
      "text/plain": [
       "<IPython.core.display.HTML object>"
      ]
     },
     "metadata": {},
     "output_type": "display_data"
    }
   ],
   "source": [
    "display(HTML(df_photos.to_html(escape=False)))"
   ]
  }
 ],
 "metadata": {
  "kernelspec": {
   "display_name": "venv",
   "language": "python",
   "name": "python3"
  },
  "language_info": {
   "codemirror_mode": {
    "name": "ipython",
    "version": 3
   },
   "file_extension": ".py",
   "mimetype": "text/x-python",
   "name": "python",
   "nbconvert_exporter": "python",
   "pygments_lexer": "ipython3",
   "version": "3.11.4"
  }
 },
 "nbformat": 4,
 "nbformat_minor": 2
}
